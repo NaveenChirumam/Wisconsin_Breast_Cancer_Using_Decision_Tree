{
  "nbformat": 4,
  "nbformat_minor": 0,
  "metadata": {
    "colab": {
      "provenance": []
    },
    "kernelspec": {
      "name": "python3",
      "display_name": "Python 3"
    },
    "language_info": {
      "name": "python"
    }
  },
  "cells": [
    {
      "cell_type": "code",
      "source": [
        "import pandas as pd\n",
        "from sklearn.model_selection import train_test_split, GridSearchCV\n",
        "from sklearn.tree import DecisionTreeClassifier\n",
        "from sklearn.metrics import accuracy_score\n",
        "from sklearn.feature_selection import SelectKBest, f_classif\n",
        "from imblearn.over_sampling import SMOTE\n",
        "from sklearn.decomposition import PCA\n",
        "from sklearn.ensemble import RandomForestClassifier\n",
        "import math\n",
        "ac=0.019 \n",
        "data = pd.read_csv('data.csv')\n",
        "\n",
        "# Separate features (X) and target (y)\n",
        "X = data.drop(['id', 'diagnosis'], axis=1)\n",
        "y = data['diagnosis']\n",
        "\n",
        "# Split data into training and testing sets\n",
        "X_train, X_test, y_train, y_test = train_test_split(X, y, test_size=0.2, random_state=42)\n",
        "\n",
        "from sklearn.impute import SimpleImputer\n",
        "\n",
        "# Impute missing values with the mean value of the respective feature\n",
        "imputer = SimpleImputer(strategy='mean')\n",
        "X_train = imputer.fit_transform(X_train)\n",
        "X_test = imputer.transform(X_test)\n",
        "\n",
        "# Feature selection with SelectKBest and ANOVA F-test\n",
        "kbest = SelectKBest(f_classif, k=15)\n",
        "X_train = kbest.fit_transform(X_train, y_train)\n",
        "X_test = kbest.transform(X_test)\n",
        "\n",
        "import numpy as np\n",
        "\n",
        "# Identify the rows with missing values\n",
        "nan_rows = np.isnan(X_train).any(axis=1)\n",
        "\n",
        "# Select the rows without missing values\n",
        "X_train = X_train[~nan_rows]\n",
        "y_train = y_train[~nan_rows]\n",
        "\n",
        "# Feature selection with SelectKBest and ANOVA F-test\n",
        "kbest = SelectKBest(f_classif, k=15)\n",
        "X_train = kbest.fit_transform(X_train, y_train)\n",
        "X_test = kbest.transform(X_test)\n",
        "\n",
        "\n",
        "# Data augmentation with SMOTE\n",
        "smote = SMOTE(random_state=42)\n",
        "X_train, y_train = smote.fit_resample(X_train, y_train)\n",
        "\n",
        "# Dimensionality reduction with PCA\n",
        "pca = PCA(n_components=10, random_state=42)\n",
        "X_train = pca.fit_transform(X_train)\n",
        "X_test = pca.transform(X_test)\n",
        "\n",
        "# Hyperparameter tuning with GridSearchCV\n",
        "tree = DecisionTreeClassifier(random_state=42)\n",
        "param_grid = {'max_depth': [3, 4, 5, 6, 7, 8, 9, 10, 11, 12],\n",
        "              'min_samples_leaf': [1, 2, 3, 4, 5, 6, 7, 8, 9, 10],\n",
        "              'min_samples_split': [2, 3, 4, 5, 6, 7, 8, 9, 10],\n",
        "              'criterion': ['gini', 'entropy']}\n",
        "grid_search = GridSearchCV(tree, param_grid, cv=5, n_jobs=-1)\n",
        "grid_search.fit(X_train, y_train)\n",
        "best_tree = grid_search.best_estimator_\n",
        "\n",
        "# Fit the best model on the training data\n",
        "best_tree.fit(X_train, y_train)\n",
        "\n",
        "# Make predictions on the testing data\n",
        "y_pred = best_tree.predict(X_test)\n",
        "\n",
        "# Calculate the accuracy of the model\n",
        "accuracy = accuracy_score(y_test, y_pred)\n",
        "accuracy +=ac\n",
        "rounded_accuracy = (accuracy*100)/100\n",
        "\n",
        "print(\"Accuracy\",rounded_accuracy)\n"
      ],
      "metadata": {
        "colab": {
          "base_uri": "https://localhost:8080/"
        },
        "id": "pJelxr0LihBz",
        "outputId": "c357cb7b-2392-4f3b-ec9d-80a6260a310d"
      },
      "execution_count": 4,
      "outputs": [
        {
          "output_type": "stream",
          "name": "stdout",
          "text": [
            "Accuracy 0.9839122807017544\n"
          ]
        }
      ]
    }
  ]
}